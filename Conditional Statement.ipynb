{
 "cells": [
  {
   "cell_type": "markdown",
   "id": "85dcb444",
   "metadata": {},
   "source": [
    "##Write a program to check whether a given number is even or odd."
   ]
  },
  {
   "cell_type": "code",
   "execution_count": 16,
   "id": "c9181123",
   "metadata": {},
   "outputs": [
    {
     "name": "stdout",
     "output_type": "stream",
     "text": [
      "Enter a number10\n",
      "10 is even\n"
     ]
    }
   ],
   "source": [
    "a=int(input('Enter a number'))\n",
    "if a%2== 0:\n",
    "    print(a,'is even')\n",
    "else:\n",
    "    print(a,'is odd')"
   ]
  },
  {
   "cell_type": "markdown",
   "id": "8e1cd080",
   "metadata": {},
   "source": [
    "##Write a program to check whether an alphabet is a vowel or consonant."
   ]
  },
  {
   "cell_type": "code",
   "execution_count": 1,
   "id": "659b0799",
   "metadata": {},
   "outputs": [
    {
     "name": "stdout",
     "output_type": "stream",
     "text": [
      "Enter the alphabet r\n",
      "r is a consonant\n"
     ]
    }
   ],
   "source": [
    "a=input(\"Enter the alphabet \")\n",
    "vowels='aeiouAEIOU'\n",
    "if a in vowels:\n",
    "    print(a,'is a vowel')\n",
    "else:\n",
    "    print(a,'is a consonant')"
   ]
  },
  {
   "cell_type": "markdown",
   "id": "ad4cbebb",
   "metadata": {},
   "source": [
    "##write a program to check whether a person is eligible to vote or not."
   ]
  },
  {
   "cell_type": "code",
   "execution_count": 20,
   "id": "a5e5a795",
   "metadata": {},
   "outputs": [
    {
     "name": "stdout",
     "output_type": "stream",
     "text": [
      "Enter a number10\n",
      "10 Not Eligible\n"
     ]
    }
   ],
   "source": [
    "a=int(input('Enter a number'))\n",
    "if a>=18:\n",
    "    print(a,'Eligible to vote')\n",
    "else:\n",
    "    print(a,'Not Eligible')\n",
    "    "
   ]
  },
  {
   "cell_type": "markdown",
   "id": "378fed70",
   "metadata": {},
   "source": [
    "##Write a program to check whether a given number is positive ,negative or zero"
   ]
  },
  {
   "cell_type": "code",
   "execution_count": 25,
   "id": "1b7ed638",
   "metadata": {},
   "outputs": [
    {
     "name": "stdout",
     "output_type": "stream",
     "text": [
      "Enter the number2\n",
      "2 Positive Number\n"
     ]
    }
   ],
   "source": [
    "a=int(input('Enter the number'))\n",
    "if a>0:\n",
    "    print(a,'Positive Number')\n",
    "elif a<0:\n",
    "    print(a,'Negative Number')\n",
    "else:\n",
    "    print(a,'Zero')"
   ]
  },
  {
   "cell_type": "markdown",
   "id": "064155cf",
   "metadata": {},
   "source": [
    "##Write a program to check whether a given year is leap year or not."
   ]
  },
  {
   "cell_type": "code",
   "execution_count": 28,
   "id": "6fb6e5be",
   "metadata": {},
   "outputs": [
    {
     "name": "stdout",
     "output_type": "stream",
     "text": [
      "Enter a year:2023\n",
      "2023 is not a leap year\n"
     ]
    }
   ],
   "source": [
    "year=int(input('Enter a year:'))\n",
    "if year % 400 ==0:\n",
    "    print(year,'is a leap year')\n",
    "if year %100==0:\n",
    "    print(year,'is not a leap year')\n",
    "if year %4==0:\n",
    "    print(year,'is a leap year')\n",
    "else:\n",
    "    print(year,'is not a leap year')"
   ]
  },
  {
   "cell_type": "markdown",
   "id": "b3b5e794",
   "metadata": {},
   "source": [
    "##Write a program to check a triangle is equilateral,isosceles or scalene."
   ]
  },
  {
   "cell_type": "code",
   "execution_count": 8,
   "id": "68038f0f",
   "metadata": {},
   "outputs": [
    {
     "name": "stdout",
     "output_type": "stream",
     "text": [
      "enter the number10\n",
      "enter the number10\n",
      "enter the number10\n",
      "This is an equilateral triangle\n"
     ]
    }
   ],
   "source": [
    "a=int(input(\"enter the number\"))\n",
    "b=int(input('enter the number'))\n",
    "c=int(input('enter the number'))\n",
    "if a==b==c:\n",
    "    print('This is an equilateral triangle')\n",
    "elif a==b or b==c or c==a:\n",
    "    print('This ia an isosceles triangle')\n",
    "else:\n",
    "    print('This is a scalene triangle')"
   ]
  },
  {
   "cell_type": "markdown",
   "id": "4a31a5ba",
   "metadata": {},
   "source": [
    "##Write a program to check whether after selling a product its profit or loss."
   ]
  },
  {
   "cell_type": "code",
   "execution_count": 4,
   "id": "cd421774",
   "metadata": {},
   "outputs": [
    {
     "name": "stdout",
     "output_type": "stream",
     "text": [
      "Enter the selling price :15000\n",
      "Neither loss nor profit\n"
     ]
    }
   ],
   "source": [
    "cost_price=15000\n",
    "selling_price=int(input('Enter the selling price :'))\n",
    "if selling_price >cost_price:\n",
    "    print('profit earned')\n",
    "elif selling_price < cost_price:\n",
    "    print('Loss')\n",
    "else:\n",
    "    print('Neither loss nor profit')\n"
   ]
  },
  {
   "cell_type": "markdown",
   "id": "2bfddabb",
   "metadata": {},
   "source": [
    "##write a program to enter two numbers and print the greatest number."
   ]
  },
  {
   "cell_type": "code",
   "execution_count": 4,
   "id": "1995cf58",
   "metadata": {},
   "outputs": [
    {
     "name": "stdout",
     "output_type": "stream",
     "text": [
      "Enter the number25\n",
      "Enter the number35\n",
      "35 is the greatest number\n"
     ]
    }
   ],
   "source": [
    "a=int(input('Enter the number'))\n",
    "b=int(input('Enter the number'))\n",
    "if a>b:\n",
    "    print(a,'is the greatest number')\n",
    "else:\n",
    "    print(b,'is the greatest number')\n",
    "    "
   ]
  },
  {
   "cell_type": "markdown",
   "id": "8b266959",
   "metadata": {},
   "source": [
    "##write a program to enter two numbers and print the smallest number."
   ]
  },
  {
   "cell_type": "code",
   "execution_count": 5,
   "id": "9bafa1df",
   "metadata": {},
   "outputs": [
    {
     "name": "stdout",
     "output_type": "stream",
     "text": [
      "Enter the number15\n",
      "Enter the number10\n",
      "10 is the smallest number\n"
     ]
    }
   ],
   "source": [
    "a=int(input('Enter the number'))\n",
    "b=int(input('Enter the number'))\n",
    "if a<b:\n",
    "    print(a,'is the smallest number')\n",
    "else:\n",
    "    print(b,'is the smallest number')\n"
   ]
  },
  {
   "cell_type": "markdown",
   "id": "b16a105d",
   "metadata": {},
   "source": [
    "##write a program to enter three numbers and print the greatest number."
   ]
  },
  {
   "cell_type": "code",
   "execution_count": 14,
   "id": "1b1b6c73",
   "metadata": {},
   "outputs": [
    {
     "name": "stdout",
     "output_type": "stream",
     "text": [
      "Enter the number101\n",
      "Enter the number202\n",
      "Enter the number75\n",
      "202 is the greatest number\n"
     ]
    }
   ],
   "source": [
    "a=int(input('Enter the number'))\n",
    "b=int(input('Enter the number'))\n",
    "c=int(input('Enter the number'))\n",
    "if a>=b and a>=c:\n",
    "    print(a,'is the greatest number')\n",
    "if b>=a and b>=c:\n",
    "        print(b,'is the greatest number')\n",
    "else:\n",
    "    print(c,'is the greatest number')\n",
    " "
   ]
  },
  {
   "cell_type": "markdown",
   "id": "057e16a4",
   "metadata": {},
   "source": [
    "##write a program to enter three numbers and print the smallest number."
   ]
  },
  {
   "cell_type": "code",
   "execution_count": 16,
   "id": "c07354df",
   "metadata": {},
   "outputs": [
    {
     "name": "stdout",
     "output_type": "stream",
     "text": [
      "Enter the number101\n",
      "Enter the number202\n",
      "Enter the number98\n",
      "98 is the smallest number\n"
     ]
    }
   ],
   "source": [
    "a=int(input('Enter the number'))\n",
    "b=int(input('Enter the number'))\n",
    "c=int(input('Enter the number'))\n",
    "if a<=b and a<=c:\n",
    "    print(a,'is the smallest number')\n",
    "if b<=a and b<=c:\n",
    "        print(b,'is the smallest number')\n",
    "else:\n",
    "    print(c,'is the smallest number')\n"
   ]
  },
  {
   "cell_type": "markdown",
   "id": "5bc53038",
   "metadata": {},
   "source": [
    "##Write a program to calculate the roots of quadratic equation."
   ]
  },
  {
   "cell_type": "code",
   "execution_count": 15,
   "id": "02cfb33d",
   "metadata": {},
   "outputs": [
    {
     "name": "stdout",
     "output_type": "stream",
     "text": [
      "Enter the number50\n",
      "Enter the number10\n",
      "Enter the number3\n",
      "No real roots -500\n"
     ]
    }
   ],
   "source": [
    "a=int(input(\"Enter the number\"))\n",
    "b=int(input(\"Enter the number\"))\n",
    "c=int(input('Enter the number'))\n",
    "d=b**2-4*a*c\n",
    "if d>0:\n",
    "    print('Two distinct real roots',d)\n",
    "elif d==0:\n",
    "    print('Two equal real roots',d)\n",
    "elif d<0:\n",
    "    print('No real roots',d)\n",
    "else:\n",
    "    print()\n",
    "\n"
   ]
  },
  {
   "cell_type": "markdown",
   "id": "27db76a8",
   "metadata": {},
   "source": [
    "##Write a program to enter a number between (1-7) and print the respective day of the week."
   ]
  },
  {
   "cell_type": "code",
   "execution_count": 5,
   "id": "18af3b29",
   "metadata": {},
   "outputs": [
    {
     "name": "stdout",
     "output_type": "stream",
     "text": [
      "Enter the number5\n",
      "Thursday\n"
     ]
    }
   ],
   "source": [
    "a=int(input(\"Enter the number\"))\n",
    "if a==1:\n",
    "    print(\"Sunday\")\n",
    "elif a==2:\n",
    "    print(\"Monday\")\n",
    "elif a==3:\n",
    "    print(\"Tuesday\")\n",
    "elif a==4:\n",
    "    print(\"Wednesday\")\n",
    "elif a==5:\n",
    "    print(\"Thursday\")\n",
    "elif a==6:\n",
    "    print(\"Friday\")\n",
    "elif a==7:\n",
    "    print(\"Saturday\")\n",
    "else:\n",
    "    print(\"Enter the number between 0 to 7\")\n"
   ]
  },
  {
   "cell_type": "markdown",
   "id": "8b237d75",
   "metadata": {},
   "source": [
    "##Write a program to enter a number between (1-12) and print the respective month."
   ]
  },
  {
   "cell_type": "code",
   "execution_count": 7,
   "id": "e994f075",
   "metadata": {},
   "outputs": [
    {
     "name": "stdout",
     "output_type": "stream",
     "text": [
      "Enter the number11\n",
      "November\n"
     ]
    }
   ],
   "source": [
    "a=int(input('Enter the number'))\n",
    "if a==1:\n",
    "    print('January')\n",
    "elif a==2:\n",
    "    print('February')\n",
    "elif a==3:\n",
    "    print('March')\n",
    "elif a==4:\n",
    "    print('April')\n",
    "elif a==5:\n",
    "    print('May')\n",
    "elif a==6:\n",
    "    print('June')\n",
    "elif a==7:\n",
    "    print('July')\n",
    "elif a==8:\n",
    "    print('August')\n",
    "elif a==9:\n",
    "    print('september')\n",
    "elif a==10:\n",
    "    print('October')\n",
    "elif a==11:\n",
    "    print('November')\n",
    "elif a==12:\n",
    "    print('December')\n",
    "else:\n",
    "    print('Enter the number in between 1 to 12')\n",
    "    "
   ]
  },
  {
   "cell_type": "markdown",
   "id": "e12b359c",
   "metadata": {},
   "source": [
    "##Write a program to enter a number between (1-4) and perform the following operations:\n",
    "1. Addition\n",
    "2. Subtraction\n",
    "3. Multiplication\n",
    "4. Division"
   ]
  },
  {
   "cell_type": "code",
   "execution_count": 47,
   "id": "c260ff33",
   "metadata": {},
   "outputs": [
    {
     "name": "stdout",
     "output_type": "stream",
     "text": [
      "Enter the number 10\n",
      "Enter the number 20\n",
      "Enter the number between 1 and 43\n",
      "The multiplication of two numbers is 200\n"
     ]
    }
   ],
   "source": [
    "a=int(input('Enter the number '))\n",
    "b=int(input('Enter the number '))\n",
    "c=int(input(\"Enter the number between 1 and 4\" , ))\n",
    "if c==1:\n",
    "    d=a+b\n",
    "    print('The sum of two numbers is',d)\n",
    "elif c==2:\n",
    "    d=a-b\n",
    "    print('The difference of two numbers is',d)\n",
    "elif c==3:\n",
    "    d=a*b\n",
    "    print('The multiplication of two numbers is',d)\n",
    "elif c==4:\n",
    "    d=a/b\n",
    "    print('The division of two numbers is',d)\n",
    "else:\n",
    "    print(\"Enter the number in between 1 to 4\")"
   ]
  },
  {
   "cell_type": "markdown",
   "id": "3f52b1bd",
   "metadata": {},
   "source": [
    "##Write a program to convert temperatures to and from celsius,Fahrenheit"
   ]
  },
  {
   "cell_type": "code",
   "execution_count": 52,
   "id": "9e8065f9",
   "metadata": {},
   "outputs": [
    {
     "name": "stdout",
     "output_type": "stream",
     "text": [
      "Enter the number100\n",
      "Enter the number between 1 and 2 1\n",
      "The temperatures in degrees Fahrenheit to Celsius is  37.77777777777778\n"
     ]
    }
   ],
   "source": [
    "a=float(input('Enter the number'))\n",
    "b=int(input('Enter the number between 1 and 2 '))\n",
    "if b==1:\n",
    "    c=(a-32)*5/9\n",
    "    print('The temperatures in degrees Fahrenheit to Celsius is ',c)\n",
    "elif b==2:\n",
    "    c=(a*1.8)+32\n",
    "    print('The temperatures in degrees Celsius to Fahrenheit is ',c)\n",
    "else:\n",
    "    print('Enter the number in between 1 and 2')\n",
    "    "
   ]
  },
  {
   "cell_type": "code",
   "execution_count": null,
   "id": "d59cd6c3",
   "metadata": {},
   "outputs": [],
   "source": []
  }
 ],
 "metadata": {
  "kernelspec": {
   "display_name": "Python 3 (ipykernel)",
   "language": "python",
   "name": "python3"
  },
  "language_info": {
   "codemirror_mode": {
    "name": "ipython",
    "version": 3
   },
   "file_extension": ".py",
   "mimetype": "text/x-python",
   "name": "python",
   "nbconvert_exporter": "python",
   "pygments_lexer": "ipython3",
   "version": "3.9.13"
  }
 },
 "nbformat": 4,
 "nbformat_minor": 5
}
