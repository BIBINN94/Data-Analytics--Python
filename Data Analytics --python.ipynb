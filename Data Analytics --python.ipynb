{
 "cells": [
  {
   "cell_type": "markdown",
   "id": "3031c765",
   "metadata": {},
   "source": [
    "##  Write a program to print yourself introduction\n"
   ]
  },
  {
   "cell_type": "code",
   "execution_count": 10,
   "id": "a9162eb3",
   "metadata": {},
   "outputs": [
    {
     "name": "stdout",
     "output_type": "stream",
     "text": [
      "My name is Bibin Narayanan.\n",
      "I had completed my graduation in Mechanical Engineering.\n",
      "After that i had done my post graduation in Manufacturing Engineering.\n",
      "I had an experience in the field of teaching for around 1 year and been worked as trainer in Tech Mahindra.\n",
      "In my free time, I like to play indoor games.\n"
     ]
    }
   ],
   "source": [
    "print(\"My name is Bibin Narayanan.\")\n",
    "print(\"I had completed my graduation in Mechanical Engineering.\")\n",
    "print('After that i had done my post graduation in Manufacturing Engineering.')\n",
    "print(\"I had an experience in the field of teaching for around 1 year and been worked as trainer in Tech Mahindra.\")\n",
    "print(\"In my free time, I like to play indoor games.\")\n"
   ]
  },
  {
   "cell_type": "markdown",
   "id": "49a0ff23",
   "metadata": {},
   "source": [
    "##  Write a program to perform Addition"
   ]
  },
  {
   "cell_type": "code",
   "execution_count": 1,
   "id": "a029a027",
   "metadata": {},
   "outputs": [
    {
     "name": "stdout",
     "output_type": "stream",
     "text": [
      "First number10\n",
      "Second number10\n",
      "sum is 20\n"
     ]
    }
   ],
   "source": [
    "a=int(input('First number'))\n",
    "b=int(input('Second number'))\n",
    "sum= a+b\n",
    "print(\"sum is\",sum)"
   ]
  },
  {
   "cell_type": "markdown",
   "id": "1208c2e8",
   "metadata": {},
   "source": [
    "## Write a program to perform Subtraction"
   ]
  },
  {
   "cell_type": "code",
   "execution_count": 3,
   "id": "30e2e40f",
   "metadata": {},
   "outputs": [
    {
     "name": "stdout",
     "output_type": "stream",
     "text": [
      "Enter the number50\n",
      "enter the number20\n",
      "subtract is  30\n"
     ]
    }
   ],
   "source": [
    "a=int(input('Enter the number'))\n",
    "b=int(input('enter the number'))\n",
    "subtract=a-b\n",
    "print(\"subtract is \", subtract)"
   ]
  },
  {
   "cell_type": "markdown",
   "id": "1b532348",
   "metadata": {},
   "source": [
    "## Write a program to perform Multiplication"
   ]
  },
  {
   "cell_type": "code",
   "execution_count": 4,
   "id": "861453ae",
   "metadata": {},
   "outputs": [
    {
     "name": "stdout",
     "output_type": "stream",
     "text": [
      "Enter the number20\n",
      "Enter the number10\n",
      "Multiply is  200\n"
     ]
    }
   ],
   "source": [
    "a=int(input('Enter the number'))\n",
    "b=int(input('Enter the number'))\n",
    "Multiplication=a*b\n",
    "print('Multiply is ',Multiplication)"
   ]
  },
  {
   "cell_type": "markdown",
   "id": "5199aef3",
   "metadata": {},
   "source": [
    "## Write a program to perform Division"
   ]
  },
  {
   "cell_type": "code",
   "execution_count": 5,
   "id": "43eb9b96",
   "metadata": {},
   "outputs": [
    {
     "name": "stdout",
     "output_type": "stream",
     "text": [
      "Enter the number50\n",
      "Enter the number10\n",
      "Division is  5.0\n"
     ]
    }
   ],
   "source": [
    "a=int(input('Enter the number'))\n",
    "b=int(input('Enter the number'))\n",
    "Division=a/b\n",
    "print('Division is ',Division)"
   ]
  },
  {
   "cell_type": "markdown",
   "id": "56308540",
   "metadata": {},
   "source": [
    "## Write a program to perform Modulus"
   ]
  },
  {
   "cell_type": "code",
   "execution_count": 8,
   "id": "afb1dea0",
   "metadata": {},
   "outputs": [
    {
     "name": "stdout",
     "output_type": "stream",
     "text": [
      "Enter the number25\n",
      "Enter the number6\n",
      "Modulus is 1\n"
     ]
    }
   ],
   "source": [
    "a=int(input('Enter the number'))\n",
    "b=int(input('Enter the number'))\n",
    "modulus=a%b\n",
    "print('Modulus is',modulus)"
   ]
  },
  {
   "cell_type": "markdown",
   "id": "9561d2e6",
   "metadata": {},
   "source": [
    "## Write a program to perform Exponent"
   ]
  },
  {
   "cell_type": "code",
   "execution_count": 10,
   "id": "cd62fce1",
   "metadata": {},
   "outputs": [
    {
     "name": "stdout",
     "output_type": "stream",
     "text": [
      "Enter the number5\n",
      "Enter the number2\n",
      "Exponent is 25\n"
     ]
    }
   ],
   "source": [
    "a=int(input('Enter the number'))\n",
    "b=int(input('Enter the number'))\n",
    "Exponent=a**b\n",
    "print('Exponent is',Exponent)"
   ]
  },
  {
   "cell_type": "markdown",
   "id": "8e190fea",
   "metadata": {},
   "source": [
    "## Write a program to Swap two numbers"
   ]
  },
  {
   "cell_type": "code",
   "execution_count": 11,
   "id": "55651b0c",
   "metadata": {},
   "outputs": [
    {
     "name": "stdout",
     "output_type": "stream",
     "text": [
      "enter the number10\n",
      "enter the number20\n",
      "swapping 20 10\n"
     ]
    }
   ],
   "source": [
    "a=int(input(\"enter the number\"))\n",
    "b=int(input('enter the number'))\n",
    "c=a\n",
    "a=b\n",
    "b=c\n",
    "print('swapping',a,b)"
   ]
  },
  {
   "cell_type": "markdown",
   "id": "d2686eb2",
   "metadata": {},
   "source": [
    "## Write a program to Swap two numbers without using third variable"
   ]
  },
  {
   "cell_type": "code",
   "execution_count": 2,
   "id": "000d8ab7",
   "metadata": {},
   "outputs": [
    {
     "name": "stdout",
     "output_type": "stream",
     "text": [
      "enter the number25\n",
      "enter the number30\n",
      "swapping 30 25\n"
     ]
    }
   ],
   "source": [
    "a=int(input('enter the number'))\n",
    "b=int(input('enter the number'))\n",
    "a,b=b,a\n",
    "print('swapping',a,b)"
   ]
  },
  {
   "cell_type": "markdown",
   "id": "9a630290",
   "metadata": {},
   "source": [
    "## Write a program to compute Simple Interest"
   ]
  },
  {
   "cell_type": "code",
   "execution_count": 6,
   "id": "a3ba23cb",
   "metadata": {},
   "outputs": [
    {
     "name": "stdout",
     "output_type": "stream",
     "text": [
      "enter the principal amount50\n",
      "enter time5\n",
      "enter rate2\n",
      "Simple Interest is 5.0\n"
     ]
    }
   ],
   "source": [
    "a=int(input('enter the principal amount'))\n",
    "b=int(input('enter time'))\n",
    "c=int(input('enter rate'))\n",
    "SimpleInterest=a*b*c/100\n",
    "print('Simple Interest is',SimpleInterest)"
   ]
  },
  {
   "cell_type": "markdown",
   "id": "8df45c3c",
   "metadata": {},
   "source": [
    "## Write a program to find Average of five numbers by user input"
   ]
  },
  {
   "cell_type": "code",
   "execution_count": 9,
   "id": "b0a31651",
   "metadata": {},
   "outputs": [
    {
     "name": "stdout",
     "output_type": "stream",
     "text": [
      "enter the first number10\n",
      "enter the second number10\n",
      "enter the third number10\n",
      "enter the forth number10\n",
      "enter the fifth number10\n",
      "Average of five numbers 10.0\n"
     ]
    }
   ],
   "source": [
    "a=int(input('enter the first number'))\n",
    "b=int(input('enter the second number'))\n",
    "c=int(input('enter the third number'))\n",
    "d=int(input('enter the forth number'))\n",
    "e=int(input('enter the fifth number'))\n",
    "avg=(a+b+c+d+e)/5\n",
    "print('Average of five numbers',avg)"
   ]
  },
  {
   "cell_type": "markdown",
   "id": "e6cc6286",
   "metadata": {},
   "source": [
    "## Write a program to calculate the Discriminant of quadratic equation"
   ]
  },
  {
   "cell_type": "code",
   "execution_count": 20,
   "id": "065f9fa8",
   "metadata": {},
   "outputs": [
    {
     "name": "stdout",
     "output_type": "stream",
     "text": [
      "enter the number10\n",
      "enter the number2\n",
      "enter the number5\n",
      "Discriminant of the number -196\n"
     ]
    }
   ],
   "source": [
    "a=int(input('enter the number'))\n",
    "b=int(input('enter the number'))\n",
    "c=int(input('enter the number'))\n",
    "Discriminant=b**2-4*a*c\n",
    "print('Discriminant of the number',Discriminant)"
   ]
  },
  {
   "cell_type": "markdown",
   "id": "cb85cc79",
   "metadata": {},
   "source": [
    "## Write a program to calculate the Area of Rectangle"
   ]
  },
  {
   "cell_type": "code",
   "execution_count": 14,
   "id": "ef817023",
   "metadata": {},
   "outputs": [
    {
     "name": "stdout",
     "output_type": "stream",
     "text": [
      "enter the length of rectangle10\n",
      "enter the breath of rectangle5\n",
      "Area of Rectangle is 50\n"
     ]
    }
   ],
   "source": [
    "length=int(input('enter the length of rectangle'))\n",
    "breadth=int(input('enter the breath of rectangle'))\n",
    "area=length*breadth\n",
    "print('Area of Rectangle is',area)"
   ]
  },
  {
   "cell_type": "markdown",
   "id": "0c63801e",
   "metadata": {},
   "source": [
    "## Write a program to calculate the Area of Square"
   ]
  },
  {
   "cell_type": "code",
   "execution_count": 17,
   "id": "133106b4",
   "metadata": {},
   "outputs": [
    {
     "name": "stdout",
     "output_type": "stream",
     "text": [
      "enter the side5\n",
      "Area of square is 25\n"
     ]
    }
   ],
   "source": [
    "side=int(input('enter the side'))\n",
    "area=side*side\n",
    "print('Area of square is',area)"
   ]
  },
  {
   "cell_type": "markdown",
   "id": "69a865ac",
   "metadata": {},
   "source": [
    "## Write a program to calculate the Area of triangle"
   ]
  },
  {
   "cell_type": "code",
   "execution_count": 16,
   "id": "0c21147a",
   "metadata": {},
   "outputs": [
    {
     "name": "stdout",
     "output_type": "stream",
     "text": [
      "enter the breadth of triangle10\n",
      "enter the height of triangle20\n",
      "Area of triangle 100.0\n"
     ]
    }
   ],
   "source": [
    "breadth=int(input('enter the breadth of triangle'))\n",
    "height=int(input('enter the height of triangle'))\n",
    "area=0.5*breadth*height\n",
    "print('Area of triangle',area)"
   ]
  },
  {
   "cell_type": "markdown",
   "id": "4f5dddb3",
   "metadata": {},
   "source": [
    "## Write a program to calculate the Area of Circle"
   ]
  },
  {
   "cell_type": "code",
   "execution_count": 18,
   "id": "d8e4c236",
   "metadata": {},
   "outputs": [
    {
     "name": "stdout",
     "output_type": "stream",
     "text": [
      "enter the radius of a circle25\n",
      "Area of circle 1962.5\n"
     ]
    }
   ],
   "source": [
    "radius=int(input('enter the radius of a circle'))\n",
    "area=3.14*radius*radius\n",
    "print('Area of circle',area)"
   ]
  },
  {
   "cell_type": "markdown",
   "id": "63ad7b2f",
   "metadata": {},
   "source": [
    "## Write a program to calculate net salary of an employeewhose basic salary is entered by the user,DA is 5% of basic salary,HRA is 7% of basic salary and PF is 3% of Basic Salary."
   ]
  },
  {
   "cell_type": "code",
   "execution_count": 16,
   "id": "b6a64bc4",
   "metadata": {},
   "outputs": [
    {
     "name": "stdout",
     "output_type": "stream",
     "text": [
      "enter the base salary =700000\n",
      "Net Salary = 761950.0\n"
     ]
    }
   ],
   "source": [
    "basicsalary=int(input('enter the base salary ='))\n",
    "da=float(basicsalary*0.05)\n",
    "hra=float(basicsalary*0.07)\n",
    "pf=float((basicsalary+da)*0.03)\n",
    "Netsalary=float(basicsalary+da+hra)\n",
    "grosspay=float(Netsalary-pf)\n",
    "print('Net Salary =',grosspay)\n"
   ]
  },
  {
   "cell_type": "markdown",
   "id": "3beeded8",
   "metadata": {},
   "source": [
    "## Write a program to calculate the Power of a number"
   ]
  },
  {
   "cell_type": "code",
   "execution_count": 3,
   "id": "3ba53c8a",
   "metadata": {},
   "outputs": [
    {
     "name": "stdout",
     "output_type": "stream",
     "text": [
      "enter the number5\n",
      "enter the number2\n",
      "The power of number= 25\n"
     ]
    }
   ],
   "source": [
    "a=int(input('enter the number'))\n",
    "b=int(input('enter the number'))\n",
    "c=a**b\n",
    "print('The power of number=',c)"
   ]
  },
  {
   "cell_type": "markdown",
   "id": "dd910c7a",
   "metadata": {},
   "source": [
    "## Write a program to get the Python version you are using. "
   ]
  },
  {
   "cell_type": "code",
   "execution_count": 11,
   "id": "bf4bb3a8",
   "metadata": {},
   "outputs": [
    {
     "name": "stdout",
     "output_type": "stream",
     "text": [
      "3.9.13 (main, Aug 25 2022, 23:51:50) [MSC v.1916 64 bit (AMD64)]\n"
     ]
    }
   ],
   "source": [
    "import sys\n",
    "print(sys.version)"
   ]
  },
  {
   "cell_type": "code",
   "execution_count": null,
   "id": "ddfef84d",
   "metadata": {},
   "outputs": [],
   "source": []
  },
  {
   "cell_type": "code",
   "execution_count": null,
   "id": "bf17ce49",
   "metadata": {},
   "outputs": [],
   "source": []
  }
 ],
 "metadata": {
  "kernelspec": {
   "display_name": "Python 3 (ipykernel)",
   "language": "python",
   "name": "python3"
  },
  "language_info": {
   "codemirror_mode": {
    "name": "ipython",
    "version": 3
   },
   "file_extension": ".py",
   "mimetype": "text/x-python",
   "name": "python",
   "nbconvert_exporter": "python",
   "pygments_lexer": "ipython3",
   "version": "3.9.13"
  }
 },
 "nbformat": 4,
 "nbformat_minor": 5
}
