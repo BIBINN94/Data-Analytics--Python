{
 "cells": [
  {
   "cell_type": "markdown",
   "id": "97308494",
   "metadata": {},
   "source": [
    "##Write a program to print \"Hello Python\" ten times."
   ]
  },
  {
   "cell_type": "code",
   "execution_count": 1,
   "id": "8a266dad",
   "metadata": {},
   "outputs": [
    {
     "name": "stdout",
     "output_type": "stream",
     "text": [
      "Python\n",
      "Python\n",
      "Python\n",
      "Python\n",
      "Python\n",
      "Python\n",
      "Python\n",
      "Python\n",
      "Python\n",
      "Python\n"
     ]
    }
   ],
   "source": [
    "i=1\n",
    "while i<=10:\n",
    "    print('Python')\n",
    "    i=i+1"
   ]
  },
  {
   "cell_type": "markdown",
   "id": "2aa4e1c0",
   "metadata": {},
   "source": [
    "##Write a program to print number from 1 to 10."
   ]
  },
  {
   "cell_type": "code",
   "execution_count": 4,
   "id": "3e39f065",
   "metadata": {},
   "outputs": [
    {
     "name": "stdout",
     "output_type": "stream",
     "text": [
      "1\n",
      "2\n",
      "3\n",
      "4\n",
      "5\n",
      "6\n",
      "7\n",
      "8\n",
      "9\n",
      "10\n"
     ]
    }
   ],
   "source": [
    "i=1\n",
    "while i<=10:\n",
    "    print(i)\n",
    "    i=i+1"
   ]
  },
  {
   "cell_type": "markdown",
   "id": "b9bf6c0f",
   "metadata": {},
   "source": [
    "##Write a program to print sum of first ten numbers."
   ]
  },
  {
   "cell_type": "code",
   "execution_count": 5,
   "id": "a6d70bd5",
   "metadata": {},
   "outputs": [
    {
     "name": "stdout",
     "output_type": "stream",
     "text": [
      "55\n"
     ]
    }
   ],
   "source": [
    "i=1\n",
    "add=0\n",
    "while i<=10:\n",
    "    add=add+i\n",
    "    i=i+1\n",
    "print(add)"
   ]
  },
  {
   "cell_type": "markdown",
   "id": "f7e7ca36",
   "metadata": {},
   "source": [
    "##Write a program to print n number entered by the user."
   ]
  },
  {
   "cell_type": "code",
   "execution_count": 1,
   "id": "8a873208",
   "metadata": {},
   "outputs": [
    {
     "name": "stdout",
     "output_type": "stream",
     "text": [
      "Enter a number5\n",
      "1\n",
      "2\n",
      "3\n",
      "4\n",
      "5\n"
     ]
    }
   ],
   "source": [
    "a=int(input(\"Enter a number\"))\n",
    "for i in range(1,a+1):\n",
    "    print(i)"
   ]
  },
  {
   "cell_type": "markdown",
   "id": "6c486512",
   "metadata": {},
   "source": [
    "##Write a program to print sum of n numbers"
   ]
  },
  {
   "cell_type": "code",
   "execution_count": 3,
   "id": "49293586",
   "metadata": {},
   "outputs": [
    {
     "name": "stdout",
     "output_type": "stream",
     "text": [
      "Enter the value of n: 5\n",
      "Enter number 1: 1\n",
      "Enter number 2: 2\n",
      "Enter number 3: 3\n",
      "Enter number 4: 4\n",
      "Enter number 5: 5\n",
      "The sum of the 5 numbers is 15\n"
     ]
    }
   ],
   "source": [
    "n = int(input(\"Enter the value of n: \"))  \n",
    "sum = 0  \n",
    "for i in range(1, n+1):\n",
    "    num = int(input(\"Enter number {}: \".format(i)))\n",
    "    sum += num\n",
    "print(\"The sum of the {} numbers is {}\".format(n, sum))\n",
    "\n",
    "    "
   ]
  },
  {
   "cell_type": "markdown",
   "id": "fdef94f4",
   "metadata": {},
   "source": [
    "##Write a program to print table of a number."
   ]
  },
  {
   "cell_type": "code",
   "execution_count": 4,
   "id": "88422762",
   "metadata": {},
   "outputs": [
    {
     "name": "stdout",
     "output_type": "stream",
     "text": [
      "Enter a number5\n",
      "1 * 5 = 5\n",
      "2 * 5 = 10\n",
      "3 * 5 = 15\n",
      "4 * 5 = 20\n",
      "5 * 5 = 25\n",
      "6 * 5 = 30\n",
      "7 * 5 = 35\n",
      "8 * 5 = 40\n",
      "9 * 5 = 45\n",
      "10 * 5 = 50\n"
     ]
    }
   ],
   "source": [
    "n=int(input('Enter a number'))\n",
    "i=1\n",
    "while (i<=10):\n",
    "    print(i,'*',n,'=',n*i)\n",
    "    i=i+1\n",
    "    "
   ]
  },
  {
   "cell_type": "markdown",
   "id": "a0864138",
   "metadata": {},
   "source": [
    "##Write a program to find the factorial of a number."
   ]
  },
  {
   "cell_type": "code",
   "execution_count": 2,
   "id": "6dc42f52",
   "metadata": {},
   "outputs": [
    {
     "name": "stdout",
     "output_type": "stream",
     "text": [
      "Enter a number4\n",
      "24\n"
     ]
    }
   ],
   "source": [
    "a=int(input(\"Enter a number\"))\n",
    "fact=1\n",
    "i=1\n",
    "while(i<=a):\n",
    "    fact=fact*i\n",
    "    i+=1\n",
    "print(fact)"
   ]
  },
  {
   "cell_type": "markdown",
   "id": "d48349c2",
   "metadata": {},
   "source": [
    "##Write a program to print even numbers between 1 to 100."
   ]
  },
  {
   "cell_type": "code",
   "execution_count": 1,
   "id": "352e9ff1",
   "metadata": {},
   "outputs": [
    {
     "name": "stdout",
     "output_type": "stream",
     "text": [
      "2\n",
      "4\n",
      "6\n",
      "8\n",
      "10\n",
      "12\n",
      "14\n",
      "16\n",
      "18\n",
      "20\n",
      "22\n",
      "24\n",
      "26\n",
      "28\n",
      "30\n",
      "32\n",
      "34\n",
      "36\n",
      "38\n",
      "40\n",
      "42\n",
      "44\n",
      "46\n",
      "48\n",
      "50\n",
      "52\n",
      "54\n",
      "56\n",
      "58\n",
      "60\n",
      "62\n",
      "64\n",
      "66\n",
      "68\n",
      "70\n",
      "72\n",
      "74\n",
      "76\n",
      "78\n",
      "80\n",
      "82\n",
      "84\n",
      "86\n",
      "88\n",
      "90\n",
      "92\n",
      "94\n",
      "96\n",
      "98\n",
      "100\n"
     ]
    }
   ],
   "source": [
    "i=1\n",
    "while i<=100:\n",
    "    if i%2==0:\n",
    "        print(i)\n",
    "    i=i+1"
   ]
  },
  {
   "cell_type": "markdown",
   "id": "40ff559f",
   "metadata": {},
   "source": [
    "##Write a program to print odd numbers between 1 to 100."
   ]
  },
  {
   "cell_type": "code",
   "execution_count": 4,
   "id": "faea0551",
   "metadata": {},
   "outputs": [
    {
     "name": "stdout",
     "output_type": "stream",
     "text": [
      "1\n",
      "3\n",
      "5\n",
      "7\n",
      "9\n",
      "11\n",
      "13\n",
      "15\n",
      "17\n",
      "19\n",
      "21\n",
      "23\n",
      "25\n",
      "27\n",
      "29\n",
      "31\n",
      "33\n",
      "35\n",
      "37\n",
      "39\n",
      "41\n",
      "43\n",
      "45\n",
      "47\n",
      "49\n",
      "51\n",
      "53\n",
      "55\n",
      "57\n",
      "59\n",
      "61\n",
      "63\n",
      "65\n",
      "67\n",
      "69\n",
      "71\n",
      "73\n",
      "75\n",
      "77\n",
      "79\n",
      "81\n",
      "83\n",
      "85\n",
      "87\n",
      "89\n",
      "91\n",
      "93\n",
      "95\n",
      "97\n",
      "99\n"
     ]
    }
   ],
   "source": [
    "i=1\n",
    "while i<=100:\n",
    "    if i%2!=0:\n",
    "        print(i)\n",
    "    i=i+1"
   ]
  },
  {
   "cell_type": "markdown",
   "id": "8ce900eb",
   "metadata": {},
   "source": [
    "##Write a program to check whether a given number is palindrome or not"
   ]
  },
  {
   "cell_type": "code",
   "execution_count": 8,
   "id": "68046b5e",
   "metadata": {},
   "outputs": [
    {
     "name": "stdout",
     "output_type": "stream",
     "text": [
      "Enter a number654\n",
      "Reverse is  456\n",
      "It is not a palindrome\n"
     ]
    }
   ],
   "source": [
    "n=int(input('Enter a number'))\n",
    "rev=0\n",
    "while (n!=0):\n",
    "    rem=n%10\n",
    "    rev=rev*10+rem\n",
    "    n=n//10\n",
    "print('Reverse is ',rev)\n",
    "if (rev==n):\n",
    "    print('It is a palindrome')\n",
    "else:\n",
    "    print('It is not a palindrome')"
   ]
  },
  {
   "cell_type": "markdown",
   "id": "e8b8d565",
   "metadata": {},
   "source": [
    "##Write a program to find factors of a number."
   ]
  },
  {
   "cell_type": "code",
   "execution_count": 13,
   "id": "d236fd55",
   "metadata": {},
   "outputs": [
    {
     "name": "stdout",
     "output_type": "stream",
     "text": [
      "Enter a number: 10\n",
      "Factors of 10 are:\n",
      "1\n",
      "2\n",
      "5\n",
      "10\n"
     ]
    }
   ],
   "source": [
    "a = int(input(\"Enter a number: \"))\n",
    "print(\"Factors of\", a, \"are:\")\n",
    "i = 1\n",
    "while i <= a:\n",
    "    if a % i == 0:\n",
    "        print(i)\n",
    "    i += 1"
   ]
  },
  {
   "cell_type": "markdown",
   "id": "675b8130",
   "metadata": {},
   "source": [
    "##Write a program to print the reverse of a number."
   ]
  },
  {
   "cell_type": "code",
   "execution_count": 1,
   "id": "174297e9",
   "metadata": {},
   "outputs": [
    {
     "name": "stdout",
     "output_type": "stream",
     "text": [
      "Enter a number123456\n",
      "654321\n"
     ]
    }
   ],
   "source": [
    "a=input(\"Enter a number\")\n",
    "reverse=a[::-1]\n",
    "print(reverse)"
   ]
  },
  {
   "cell_type": "markdown",
   "id": "fee31b74",
   "metadata": {},
   "source": [
    "##Write a program to print the sum of reverse of a number."
   ]
  },
  {
   "cell_type": "code",
   "execution_count": 2,
   "id": "ee65ebd7",
   "metadata": {},
   "outputs": [
    {
     "name": "stdout",
     "output_type": "stream",
     "text": [
      "Enter a number: 75\n",
      "The sum of the reverse of the number is: 12\n"
     ]
    }
   ],
   "source": [
    "a = int(input(\"Enter a number: \"))\n",
    "rev = 0\n",
    "while a > 0:\n",
    "    digit = a % 10\n",
    "    rev = rev * 10 + digit\n",
    "    a = a // 10\n",
    "sum_rev = 0\n",
    "while rev > 0:\n",
    "    digit = rev % 10\n",
    "    sum_rev += digit\n",
    "    rev = rev // 10\n",
    "\n",
    "print(\"The sum of the reverse of the number is:\", sum_rev)\n"
   ]
  },
  {
   "cell_type": "markdown",
   "id": "a1feae75",
   "metadata": {},
   "source": [
    "##Write a program to check whether a given number is prime or not."
   ]
  },
  {
   "cell_type": "code",
   "execution_count": 4,
   "id": "7779768b",
   "metadata": {},
   "outputs": [
    {
     "name": "stdout",
     "output_type": "stream",
     "text": [
      "Enter a number35\n",
      "35 a is not a prime number\n"
     ]
    }
   ],
   "source": [
    "a=int(input('Enter a number'))\n",
    "b=0\n",
    "c=0\n",
    "for i in range(1,a+1):\n",
    "    b=a%i\n",
    "    if b==0:\n",
    "        c+=1\n",
    "if c==2:\n",
    "    print(a,'a is a prime number')\n",
    "else:\n",
    "    print(a,'a is not a prime number')"
   ]
  },
  {
   "cell_type": "markdown",
   "id": "e3dab16b",
   "metadata": {},
   "source": [
    "##write a program to print prime numbers between 1  to 100"
   ]
  },
  {
   "cell_type": "code",
   "execution_count": 2,
   "id": "09d49f29",
   "metadata": {},
   "outputs": [
    {
     "name": "stdout",
     "output_type": "stream",
     "text": [
      "2\n",
      "3\n",
      "5\n",
      "7\n",
      "11\n",
      "13\n",
      "17\n",
      "19\n",
      "23\n",
      "29\n",
      "31\n",
      "37\n",
      "41\n",
      "43\n",
      "47\n",
      "53\n",
      "59\n",
      "61\n",
      "67\n",
      "71\n",
      "73\n",
      "79\n",
      "83\n",
      "89\n",
      "97\n"
     ]
    }
   ],
   "source": [
    "for i in range(2, 101):\n",
    "    is_prime = True\n",
    "    for j in range(2, i):\n",
    "        if i % j == 0:\n",
    "            is_prime = False\n",
    "            break\n",
    "    if is_prime:\n",
    "        print(i)\n",
    "\n"
   ]
  },
  {
   "cell_type": "markdown",
   "id": "ba182d88",
   "metadata": {},
   "source": [
    "##Write a program to print number in reverse order entered by the user."
   ]
  },
  {
   "cell_type": "code",
   "execution_count": 2,
   "id": "77198f13",
   "metadata": {},
   "outputs": [
    {
     "name": "stdout",
     "output_type": "stream",
     "text": [
      "Enter a number: 56789\n",
      "98765\n"
     ]
    }
   ],
   "source": [
    "a = input(\"Enter a number: \")\n",
    "reverse=a[::-1]\n",
    "print(reverse)\n",
    "\n"
   ]
  },
  {
   "cell_type": "markdown",
   "id": "a9157d06",
   "metadata": {},
   "source": [
    "##Write a program to print the cubes of all numbers from 1 to a given number."
   ]
  },
  {
   "cell_type": "code",
   "execution_count": 7,
   "id": "990d2470",
   "metadata": {},
   "outputs": [
    {
     "name": "stdout",
     "output_type": "stream",
     "text": [
      "Enter a number10\n",
      "1\n",
      "8\n",
      "27\n",
      "64\n",
      "125\n",
      "216\n",
      "343\n",
      "512\n",
      "729\n",
      "1000\n"
     ]
    }
   ],
   "source": [
    "a=int(input('Enter a number'))\n",
    "for i in range(1,a+1):\n",
    "    b=i**3\n",
    "    print(b)"
   ]
  },
  {
   "cell_type": "markdown",
   "id": "d99bc855",
   "metadata": {},
   "source": [
    "##Write a program to print the following number pattern using a loop"
   ]
  },
  {
   "cell_type": "code",
   "execution_count": 4,
   "id": "bceeb386",
   "metadata": {},
   "outputs": [
    {
     "name": "stdout",
     "output_type": "stream",
     "text": [
      "1\n",
      "12\n",
      "123\n",
      "1234\n",
      "12345\n"
     ]
    }
   ],
   "source": [
    "for i in range(1,6):\n",
    "    for j in range(1,i+1):\n",
    "        print(j,end='')\n",
    "    print()"
   ]
  },
  {
   "cell_type": "markdown",
   "id": "63f43489",
   "metadata": {},
   "source": [
    "##Write a program to print the following number pattern using a loop"
   ]
  },
  {
   "cell_type": "code",
   "execution_count": 5,
   "id": "556517ba",
   "metadata": {},
   "outputs": [
    {
     "name": "stdout",
     "output_type": "stream",
     "text": [
      "1\n",
      "22\n",
      "333\n",
      "4444\n",
      "55555\n"
     ]
    }
   ],
   "source": [
    "for i in range(1,6):\n",
    "    for j in range(1,i+1):\n",
    "        print(i,end='')\n",
    "    print()"
   ]
  },
  {
   "cell_type": "markdown",
   "id": "a2b8cc96",
   "metadata": {},
   "source": [
    "##Write a program to print the following number pattern using a loop"
   ]
  },
  {
   "cell_type": "code",
   "execution_count": 6,
   "id": "b1a6e906",
   "metadata": {},
   "outputs": [
    {
     "name": "stdout",
     "output_type": "stream",
     "text": [
      "54321\n",
      "5432\n",
      "543\n",
      "54\n",
      "5\n"
     ]
    }
   ],
   "source": [
    "for i in range(6,1,-1):\n",
    "    for j in range(5,6-i,-1):\n",
    "        print(j,end='')\n",
    "    print()"
   ]
  },
  {
   "cell_type": "markdown",
   "id": "89db62a5",
   "metadata": {},
   "source": [
    "##Write a program to print the following number pattern using a loop"
   ]
  },
  {
   "cell_type": "code",
   "execution_count": 8,
   "id": "6c38d2f7",
   "metadata": {},
   "outputs": [
    {
     "name": "stdout",
     "output_type": "stream",
     "text": [
      "12345\n",
      "1234\n",
      "123\n",
      "12\n",
      "1\n"
     ]
    }
   ],
   "source": [
    "for i in range(6,1,-1):\n",
    "    for j in range(1,i):\n",
    "        print(j,end='')\n",
    "    print()"
   ]
  },
  {
   "cell_type": "markdown",
   "id": "69e97424",
   "metadata": {},
   "source": [
    "##Write a program to print the following number pattern using a loop"
   ]
  },
  {
   "cell_type": "code",
   "execution_count": 25,
   "id": "8580b9b8",
   "metadata": {},
   "outputs": [
    {
     "name": "stdout",
     "output_type": "stream",
     "text": [
      "54321\n",
      "4321\n",
      "321\n",
      "21\n",
      "1\n"
     ]
    }
   ],
   "source": [
    "for i in range(5,0,-1):\n",
    "    for j in range(i,0,-1):\n",
    "        print(j,end='')\n",
    "    print()"
   ]
  },
  {
   "cell_type": "code",
   "execution_count": null,
   "id": "e2dcad25",
   "metadata": {},
   "outputs": [],
   "source": []
  },
  {
   "cell_type": "code",
   "execution_count": null,
   "id": "2a8bd845",
   "metadata": {},
   "outputs": [],
   "source": []
  },
  {
   "cell_type": "markdown",
   "id": "6fab3b92",
   "metadata": {},
   "source": [
    "##Write a program to print the star pattern "
   ]
  },
  {
   "cell_type": "code",
   "execution_count": 11,
   "id": "f0032ec8",
   "metadata": {},
   "outputs": [
    {
     "name": "stdout",
     "output_type": "stream",
     "text": [
      "*\n",
      "**\n",
      "***\n",
      "****\n",
      "*****\n"
     ]
    }
   ],
   "source": [
    "n=5\n",
    "for i in range(0,n):\n",
    "    for j in range (0,i+1):\n",
    "        print('*',end='')\n",
    "    print()"
   ]
  },
  {
   "cell_type": "code",
   "execution_count": null,
   "id": "e4d3e335",
   "metadata": {},
   "outputs": [],
   "source": []
  },
  {
   "cell_type": "code",
   "execution_count": null,
   "id": "42776d07",
   "metadata": {},
   "outputs": [],
   "source": []
  }
 ],
 "metadata": {
  "kernelspec": {
   "display_name": "Python 3 (ipykernel)",
   "language": "python",
   "name": "python3"
  },
  "language_info": {
   "codemirror_mode": {
    "name": "ipython",
    "version": 3
   },
   "file_extension": ".py",
   "mimetype": "text/x-python",
   "name": "python",
   "nbconvert_exporter": "python",
   "pygments_lexer": "ipython3",
   "version": "3.9.13"
  }
 },
 "nbformat": 4,
 "nbformat_minor": 5
}
